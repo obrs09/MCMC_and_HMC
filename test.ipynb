{
 "cells": [
  {
   "cell_type": "code",
   "execution_count": 96,
   "id": "2a29028c",
   "metadata": {},
   "outputs": [],
   "source": [
    "from __future__ import print_function, division\n",
    "import numpy as np\n",
    "import matplotlib.pyplot as plt\n",
    "import seaborn as sns\n",
    "import numpy as np\n",
    "from sklearn import metrics\n",
    "import matplotlib.pyplot as plt\n",
    "import seaborn as sns\n",
    "from sklearn.metrics import confusion_matrix\n",
    "import matplotlib.pyplot as plt\n",
    "\n",
    "import torch\n",
    "from torch import nn, optim\n",
    "from torch.autograd import Variable\n",
    "from torch.optim import Optimizer\n",
    "\n",
    "import collections\n",
    "import h5py, sys\n",
    "import gzip\n",
    "import os\n",
    "import math\n",
    "\n",
    "import pandas as pd\n",
    "\n",
    "\n",
    "import pickle\n",
    "\n",
    "import time\n",
    "import torch.utils.data\n",
    "from torchvision import transforms, datasets\n",
    "import torchvision\n",
    "import matplotlib\n",
    "\n",
    "import numpy as np\n",
    "import matplotlib.pyplot as plt\n",
    "import seaborn as sns\n",
    "import numpy as np\n",
    "from sklearn import metrics\n",
    "import matplotlib.pyplot as plt\n",
    "import seaborn as sns\n",
    "from sklearn.metrics import confusion_matrix\n",
    "import matplotlib.pyplot as plt\n",
    "\n",
    "import matplotlib.pyplot as plt\n",
    "import scipy.ndimage as ndim\n",
    "import matplotlib.colors as mcolors\n",
    "\n",
    "import time\n",
    "import torch.utils.data\n",
    "from torchvision import transforms, datasets\n",
    "import torchvision\n",
    "import argparse\n",
    "import matplotlib\n",
    "from src.Stochastic_Gradient_Langevin_Dynamics.model import *\n",
    "import matplotlib.pyplot as plt\n",
    "\n",
    "import torch\n",
    "from torch import nn, optim\n",
    "from torch.autograd import Variable\n",
    "from torch.optim import Optimizer\n",
    "\n",
    "import collections\n",
    "import h5py, sys\n",
    "import gzip\n",
    "import os\n",
    "import math\n",
    "\n",
    "import pandas as pd\n",
    "\n",
    "\n",
    "\n",
    "\n",
    "import time\n",
    "import torch.utils.data\n",
    "from torchvision import transforms, datasets\n",
    "import torchvision\n",
    "import matplotlib\n",
    "\n",
    "from trian_predict import TP\n",
    "\n",
    "from roc_data import roc\n",
    "\n",
    "start = [0, 1]\n",
    "end = [0, 1]\n",
    "\n",
    "torch.cuda.empty_cache()"
   ]
  },
  {
   "cell_type": "code",
   "execution_count": 147,
   "id": "8be7e835",
   "metadata": {},
   "outputs": [
    {
     "data": {
      "text/plain": [
       "(array([420.   ,   0.494]),\n",
       " array([421.   ,   0.494]),\n",
       " array([454.   ,   0.479]),\n",
       " array([455.   ,   0.479]))"
      ]
     },
     "execution_count": 147,
     "metadata": {},
     "output_type": "execute_result"
    }
   ],
   "source": [
    "a = [[420,      0.494],\n",
    " [421,      0.494],\n",
    " [454,      0.479],\n",
    " [455,      0.479]]\n",
    "a = np.array(a)\n",
    "a"
   ]
  },
  {
   "cell_type": "code",
   "execution_count": 146,
   "id": "4012bfef",
   "metadata": {},
   "outputs": [
    {
     "name": "stdout",
     "output_type": "stream",
     "text": [
      "[0.494 0.494 0.479 0.479]\n"
     ]
    }
   ],
   "source": [
    "adata = a[a[:,0].argsort()][:,1]\n",
    "print(adata)"
   ]
  },
  {
   "cell_type": "code",
   "execution_count": 138,
   "id": "42516c60",
   "metadata": {},
   "outputs": [
    {
     "name": "stdout",
     "output_type": "stream",
     "text": [
      "[420. 421. 454. 455.]\n"
     ]
    }
   ],
   "source": [
    "aindex = a[a[:,0].argsort()][:,0]\n",
    "print(aindex)"
   ]
  },
  {
   "cell_type": "code",
   "execution_count": 164,
   "id": "085ebd27",
   "metadata": {},
   "outputs": [
    {
     "data": {
      "text/plain": [
       "2"
      ]
     },
     "execution_count": 164,
     "metadata": {},
     "output_type": "execute_result"
    }
   ],
   "source": [
    "aaa = np.sort(np.unique(adata, return_index=True)[1])\n",
    "len(aaa)"
   ]
  },
  {
   "cell_type": "code",
   "execution_count": 162,
   "id": "d29d7f28",
   "metadata": {},
   "outputs": [
    {
     "data": {
      "text/plain": [
       "(array([0, 1], dtype=int64),)"
      ]
     },
     "execution_count": 162,
     "metadata": {},
     "output_type": "execute_result"
    }
   ],
   "source": [
    "np.where(adata == adata[aaa[0]])"
   ]
  },
  {
   "cell_type": "code",
   "execution_count": 163,
   "id": "1ab4ea1a",
   "metadata": {},
   "outputs": [
    {
     "data": {
      "text/plain": [
       "array([420., 421.])"
      ]
     },
     "execution_count": 163,
     "metadata": {},
     "output_type": "execute_result"
    }
   ],
   "source": [
    "aindex[np.where(adata == adata[aaa[0]])]"
   ]
  },
  {
   "cell_type": "code",
   "execution_count": 166,
   "id": "e571e912",
   "metadata": {},
   "outputs": [
    {
     "data": {
      "text/plain": [
       "0.494"
      ]
     },
     "execution_count": 166,
     "metadata": {},
     "output_type": "execute_result"
    }
   ],
   "source": [
    "adata[aaa[0]]"
   ]
  },
  {
   "cell_type": "code",
   "execution_count": 170,
   "id": "4b01b0e7",
   "metadata": {},
   "outputs": [
    {
     "data": {
      "text/plain": [
       "array([0.494, 0.479])"
      ]
     },
     "execution_count": 170,
     "metadata": {},
     "output_type": "execute_result"
    }
   ],
   "source": [
    "adata[np.sort(np.unique(adata, return_index=True)[1])]"
   ]
  },
  {
   "cell_type": "code",
   "execution_count": 171,
   "id": "9a7f257a",
   "metadata": {},
   "outputs": [
    {
     "data": {
      "text/plain": [
       "(4, 2)"
      ]
     },
     "execution_count": 171,
     "metadata": {},
     "output_type": "execute_result"
    }
   ],
   "source": [
    "np.shape(a)"
   ]
  },
  {
   "cell_type": "code",
   "execution_count": null,
   "id": "7caa85cb",
   "metadata": {},
   "outputs": [],
   "source": []
  },
  {
   "cell_type": "code",
   "execution_count": null,
   "id": "a5cb6885",
   "metadata": {},
   "outputs": [],
   "source": []
  },
  {
   "cell_type": "code",
   "execution_count": 174,
   "id": "04643218",
   "metadata": {},
   "outputs": [],
   "source": [
    "b = [[420,      0.494],\n",
    " [421],\n",
    " [454,      0.479],\n",
    " [455,      0.479]]"
   ]
  },
  {
   "cell_type": "code",
   "execution_count": 175,
   "id": "554f974b",
   "metadata": {},
   "outputs": [
    {
     "name": "stderr",
     "output_type": "stream",
     "text": [
      "C:\\Users\\shuaizhouWang\\anaconda3\\lib\\site-packages\\numpy\\core\\fromnumeric.py:1970: VisibleDeprecationWarning: Creating an ndarray from ragged nested sequences (which is a list-or-tuple of lists-or-tuples-or ndarrays with different lengths or shapes) is deprecated. If you meant to do this, you must specify 'dtype=object' when creating the ndarray.\n",
      "  result = asarray(a).shape\n"
     ]
    },
    {
     "data": {
      "text/plain": [
       "(4,)"
      ]
     },
     "execution_count": 175,
     "metadata": {},
     "output_type": "execute_result"
    }
   ],
   "source": [
    "np.shape(b)"
   ]
  },
  {
   "cell_type": "code",
   "execution_count": 181,
   "id": "af08a2b8",
   "metadata": {},
   "outputs": [
    {
     "data": {
      "text/plain": [
       "7"
      ]
     },
     "execution_count": 181,
     "metadata": {},
     "output_type": "execute_result"
    }
   ],
   "source": [
    "sum([len(i) for i in b])"
   ]
  },
  {
   "cell_type": "code",
   "execution_count": null,
   "id": "64d0ac8b",
   "metadata": {},
   "outputs": [],
   "source": []
  },
  {
   "cell_type": "code",
   "execution_count": 182,
   "id": "571e6af0",
   "metadata": {},
   "outputs": [
    {
     "data": {
      "text/plain": [
       "<module 'ntpath' from 'C:\\\\Users\\\\shuaizhouWang\\\\anaconda3\\\\lib\\\\ntpath.py'>"
      ]
     },
     "execution_count": 182,
     "metadata": {},
     "output_type": "execute_result"
    }
   ],
   "source": [
    "os.path"
   ]
  },
  {
   "cell_type": "code",
   "execution_count": null,
   "id": "d1beaee2",
   "metadata": {},
   "outputs": [],
   "source": []
  },
  {
   "cell_type": "code",
   "execution_count": null,
   "id": "a27ba14b",
   "metadata": {},
   "outputs": [],
   "source": []
  },
  {
   "cell_type": "code",
   "execution_count": null,
   "id": "d0dbf073",
   "metadata": {},
   "outputs": [],
   "source": []
  },
  {
   "cell_type": "code",
   "execution_count": null,
   "id": "bc48ae56",
   "metadata": {},
   "outputs": [],
   "source": []
  },
  {
   "cell_type": "code",
   "execution_count": null,
   "id": "eea631c0",
   "metadata": {},
   "outputs": [],
   "source": []
  },
  {
   "cell_type": "code",
   "execution_count": null,
   "id": "206353a9",
   "metadata": {},
   "outputs": [],
   "source": [
    "C2 = [[[24, 16], [5, 35]],\n",
    "         [[27, 13], [8, 32]]]\n",
    "\n",
    "C2all = [[[24,16], [5, 36]],\n",
    "         [[24, 16], [5, 35]], \n",
    "         [[27, 13], [8, 32]], \n",
    "         [[27, 13], [8, 32]]]"
   ]
  },
  {
   "cell_type": "code",
   "execution_count": null,
   "id": "c8ac5c98",
   "metadata": {},
   "outputs": [],
   "source": [
    "C2 = np.array(C2)\n",
    "C2"
   ]
  },
  {
   "cell_type": "code",
   "execution_count": null,
   "id": "eabd0a96",
   "metadata": {},
   "outputs": [],
   "source": [
    "C2[0]"
   ]
  },
  {
   "cell_type": "code",
   "execution_count": null,
   "id": "3e9107c9",
   "metadata": {},
   "outputs": [],
   "source": [
    "C2all = np.array(C2all)\n",
    "C2all"
   ]
  },
  {
   "cell_type": "code",
   "execution_count": null,
   "id": "70911336",
   "metadata": {},
   "outputs": [],
   "source": [
    "CC = C2all[1]==C2[1]\n",
    "print(CC)"
   ]
  },
  {
   "cell_type": "code",
   "execution_count": null,
   "id": "05c51346",
   "metadata": {},
   "outputs": [],
   "source": [
    "CC.any()"
   ]
  },
  {
   "cell_type": "code",
   "execution_count": null,
   "id": "911f28b0",
   "metadata": {},
   "outputs": [],
   "source": [
    "CC.all()"
   ]
  },
  {
   "cell_type": "code",
   "execution_count": null,
   "id": "443dd195",
   "metadata": {},
   "outputs": [],
   "source": []
  },
  {
   "cell_type": "code",
   "execution_count": null,
   "id": "a772f15c",
   "metadata": {},
   "outputs": [],
   "source": [
    "ppp=[]\n",
    "for j in range(np.shape(C2)[0]):\n",
    "    ll = []\n",
    "    for k in range(np.shape(C2all)[0]):\n",
    "        CC = C2[j] == C2all[k]\n",
    "        if CC.all():\n",
    "            ll.append(k)\n",
    "            print(k)\n",
    "    ppp.append([min(ll), max(ll)])\n",
    "ppp"
   ]
  },
  {
   "cell_type": "code",
   "execution_count": null,
   "id": "05326a3a",
   "metadata": {},
   "outputs": [],
   "source": []
  },
  {
   "cell_type": "code",
   "execution_count": null,
   "id": "acc8d5e2",
   "metadata": {},
   "outputs": [],
   "source": []
  },
  {
   "cell_type": "code",
   "execution_count": null,
   "id": "c339593a",
   "metadata": {},
   "outputs": [],
   "source": []
  },
  {
   "cell_type": "code",
   "execution_count": null,
   "id": "66468c7c",
   "metadata": {},
   "outputs": [],
   "source": []
  },
  {
   "cell_type": "code",
   "execution_count": null,
   "id": "66425dde",
   "metadata": {},
   "outputs": [],
   "source": []
  },
  {
   "cell_type": "code",
   "execution_count": null,
   "id": "06abd901",
   "metadata": {},
   "outputs": [],
   "source": [
    "k = {'fpr_SGLD': [0.325, 0.4], 'fpr_pSGLD': [0.125], 'fpr_SGHMC': [0.35 , 0.375], 'fpr_BBB': [0.44333333],\n",
    "     'tpr_SGLD': [0.8, 0.875], 'tpr_pSGLD': [0.7], 'tpr_SGHMC': [0.625, 0.65], 'tpr_BBB': [0.74666667],\n",
    "     'tnr_SGLD': [0.6, 0.675], 'tnr_pSGLD': [0.875], 'tnr_SGHMC': [0.625, 0.65], 'tnr_BBB': [0.55666667]}"
   ]
  },
  {
   "cell_type": "code",
   "execution_count": null,
   "id": "04bf1822",
   "metadata": {},
   "outputs": [],
   "source": [
    "kk=[]\n",
    "for i in k.values():\n",
    "    kk.append(str(i))\n",
    "    print(str(i))\n",
    "    \n",
    "kk = np.array(kk)\n",
    "kk = np.reshape(kk,[3,4])\n",
    "kk"
   ]
  },
  {
   "cell_type": "code",
   "execution_count": null,
   "id": "b3b0f143",
   "metadata": {},
   "outputs": [],
   "source": [
    "print(kk)"
   ]
  },
  {
   "cell_type": "code",
   "execution_count": null,
   "id": "63300cb2",
   "metadata": {},
   "outputs": [],
   "source": [
    "df = pd.DataFrame(kk)\n",
    "df"
   ]
  },
  {
   "cell_type": "code",
   "execution_count": null,
   "id": "27a07fbe",
   "metadata": {},
   "outputs": [],
   "source": [
    "C2 = [[[24, 16], [5, 35]],\n",
    "         [[27, 13], [8, 32]]]\n",
    "\n",
    "C2all = [[[24,16], [5, 35]],\n",
    "         [[24, 16], [5, 35]], \n",
    "         [[27, 13], [8, 32]], \n",
    "         [[27, 13], [8, 32]]]"
   ]
  },
  {
   "cell_type": "code",
   "execution_count": null,
   "id": "48c4770e",
   "metadata": {},
   "outputs": [],
   "source": []
  },
  {
   "cell_type": "code",
   "execution_count": null,
   "id": "22888614",
   "metadata": {},
   "outputs": [],
   "source": []
  },
  {
   "cell_type": "code",
   "execution_count": null,
   "id": "06900922",
   "metadata": {},
   "outputs": [],
   "source": []
  },
  {
   "cell_type": "code",
   "execution_count": null,
   "id": "d0504582",
   "metadata": {},
   "outputs": [],
   "source": []
  },
  {
   "cell_type": "code",
   "execution_count": null,
   "id": "619c97cd",
   "metadata": {},
   "outputs": [],
   "source": []
  },
  {
   "cell_type": "code",
   "execution_count": null,
   "id": "6c9d3f43",
   "metadata": {},
   "outputs": [],
   "source": []
  }
 ],
 "metadata": {
  "kernelspec": {
   "display_name": "Python 3 (ipykernel)",
   "language": "python",
   "name": "python3"
  },
  "language_info": {
   "codemirror_mode": {
    "name": "ipython",
    "version": 3
   },
   "file_extension": ".py",
   "mimetype": "text/x-python",
   "name": "python",
   "nbconvert_exporter": "python",
   "pygments_lexer": "ipython3",
   "version": "3.9.7"
  }
 },
 "nbformat": 4,
 "nbformat_minor": 5
}
